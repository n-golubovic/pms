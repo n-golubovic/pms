{
 "metadata": {
  "colab": {
   "provenance": []
  },
  "kernelspec": {
   "name": "python3",
   "display_name": "Python 3",
   "language": "python"
  },
  "language_info": {
   "name": "python",
   "version": "3.10.13",
   "mimetype": "text/x-python",
   "codemirror_mode": {
    "name": "ipython",
    "version": 3
   },
   "pygments_lexer": "ipython3",
   "nbconvert_exporter": "python",
   "file_extension": ".py"
  },
  "kaggle": {
   "accelerator": "none",
   "dataSources": [
    {
     "sourceId": 8723131,
     "sourceType": "datasetVersion",
     "datasetId": 4727572
    }
   ],
   "dockerImageVersionId": 30732,
   "isInternetEnabled": true,
   "language": "python",
   "sourceType": "notebook",
   "isGpuEnabled": false
  }
 },
 "nbformat_minor": 4,
 "nbformat": 4,
 "cells": [
  {
   "cell_type": "code",
   "source": "import pandas as pd\nimport numpy as np\nimport ast # for parsing strings into dictionaries",
   "metadata": {
    "id": "HnLGmfVkMyCy",
    "execution": {
     "iopub.status.busy": "2024-06-18T17:53:50.208134Z",
     "iopub.execute_input": "2024-06-18T17:53:50.208522Z",
     "iopub.status.idle": "2024-06-18T17:53:50.604143Z",
     "shell.execute_reply.started": "2024-06-18T17:53:50.208492Z",
     "shell.execute_reply": "2024-06-18T17:53:50.602928Z"
    },
    "trusted": true
   },
   "outputs": [],
   "execution_count": null
  },
  {
   "cell_type": "code",
   "source": "movies_metadata_file_path = '/kaggle/input/movie-genre/movies_metadata.csv'\nmovies_df = pd.read_csv(movies_metadata_file_path, low_memory=False)\nprint(movies_df.shape)",
   "metadata": {
    "id": "ba3bgxCJMc_E",
    "colab": {
     "base_uri": "https://localhost:8080/"
    },
    "outputId": "8817c04a-c800-4662-be6b-0b3dc7d05a1f",
    "execution": {
     "iopub.status.busy": "2024-06-18T17:53:52.712957Z",
     "iopub.execute_input": "2024-06-18T17:53:52.714089Z",
     "iopub.status.idle": "2024-06-18T17:53:53.974370Z",
     "shell.execute_reply.started": "2024-06-18T17:53:52.714042Z",
     "shell.execute_reply": "2024-06-18T17:53:53.973188Z"
    },
    "trusted": true
   },
   "outputs": [],
   "execution_count": null
  },
  {
   "cell_type": "code",
   "source": [
    "# Show example data\n",
    "print(movies_df.iloc[0])"
   ],
   "metadata": {
    "colab": {
     "base_uri": "https://localhost:8080/"
    },
    "id": "BduPGQ9dN6Fd",
    "outputId": "d579247f-089e-4d1d-a67e-36e6a8120672",
    "execution": {
     "iopub.status.busy": "2024-06-18T17:53:55.755994Z",
     "iopub.execute_input": "2024-06-18T17:53:55.756985Z",
     "iopub.status.idle": "2024-06-18T17:53:55.764521Z",
     "shell.execute_reply.started": "2024-06-18T17:53:55.756950Z",
     "shell.execute_reply": "2024-06-18T17:53:55.763321Z"
    },
    "trusted": true
   },
   "outputs": [],
   "execution_count": null
  },
  {
   "cell_type": "code",
   "source": "print(\"Values count adult column:\")\nprint(movies_df['adult'].value_counts(dropna=False))  # include NaN counts",
   "metadata": {
    "colab": {
     "base_uri": "https://localhost:8080/"
    },
    "id": "19K25nNbUPvH",
    "outputId": "3d63174c-4d96-46a2-b787-d129d135ce42",
    "execution": {
     "iopub.status.busy": "2024-06-18T17:54:00.776047Z",
     "iopub.execute_input": "2024-06-18T17:54:00.776443Z",
     "iopub.status.idle": "2024-06-18T17:54:00.793613Z",
     "shell.execute_reply.started": "2024-06-18T17:54:00.776412Z",
     "shell.execute_reply": "2024-06-18T17:54:00.792388Z"
    },
    "trusted": true
   },
   "outputs": [],
   "execution_count": null
  },
  {
   "cell_type": "code",
   "source": "# Show bad data\ninvalid_adult_values_df = movies_df[~movies_df['adult'].isin(['True', 'False'])]\n\nprint(\"Rows with invalid 'adult' values:\")\ninvalid_adult_values_df.head()",
   "metadata": {
    "colab": {
     "base_uri": "https://localhost:8080/",
     "height": 418
    },
    "id": "0XAxnX4Q9zTx",
    "outputId": "68def48a-0212-4116-b96d-3977302f9ca2",
    "execution": {
     "iopub.status.busy": "2024-06-18T17:54:23.077153Z",
     "iopub.execute_input": "2024-06-18T17:54:23.077574Z",
     "iopub.status.idle": "2024-06-18T17:54:23.121632Z",
     "shell.execute_reply.started": "2024-06-18T17:54:23.077529Z",
     "shell.execute_reply": "2024-06-18T17:54:23.120560Z"
    },
    "trusted": true
   },
   "outputs": [],
   "execution_count": null
  },
  {
   "cell_type": "code",
   "source": "# Filter out adult films, small sample size\nmovies_df = movies_df[movies_df['adult'] == 'False']",
   "metadata": {
    "id": "myxRvk_kNTEi",
    "execution": {
     "iopub.status.busy": "2024-06-18T17:54:27.677908Z",
     "iopub.execute_input": "2024-06-18T17:54:27.678760Z",
     "iopub.status.idle": "2024-06-18T17:54:27.709238Z",
     "shell.execute_reply.started": "2024-06-18T17:54:27.678720Z",
     "shell.execute_reply": "2024-06-18T17:54:27.708042Z"
    },
    "trusted": true
   },
   "outputs": [],
   "execution_count": null
  },
  {
   "cell_type": "code",
   "source": "# Show genres column, this is string representation\nprint(movies_df.iloc[0]['genres'])",
   "metadata": {
    "colab": {
     "base_uri": "https://localhost:8080/"
    },
    "id": "7geW2dcMPRLQ",
    "outputId": "7a6d41b7-2800-4b00-ebae-dad4a76390ca",
    "execution": {
     "iopub.status.busy": "2024-06-18T17:54:31.339762Z",
     "iopub.execute_input": "2024-06-18T17:54:31.340198Z",
     "iopub.status.idle": "2024-06-18T17:54:31.346351Z",
     "shell.execute_reply.started": "2024-06-18T17:54:31.340164Z",
     "shell.execute_reply": "2024-06-18T17:54:31.345232Z"
    },
    "trusted": true
   },
   "outputs": [],
   "execution_count": null
  },
  {
   "cell_type": "code",
   "source": [
    "def genre_transform(x):\n",
    "    try:\n",
    "        return [genre['name'] for genre in ast.literal_eval(x)] if pd.notnull(x) else []\n",
    "    except Exception as e:\n",
    "        print(f\"Error for input {x}: {e}\")\n",
    "        return []"
   ],
   "metadata": {
    "id": "5EzH_nJqSJVx",
    "execution": {
     "iopub.status.busy": "2024-06-18T17:54:38.133091Z",
     "iopub.execute_input": "2024-06-18T17:54:38.134084Z",
     "iopub.status.idle": "2024-06-18T17:54:38.139689Z",
     "shell.execute_reply.started": "2024-06-18T17:54:38.134048Z",
     "shell.execute_reply": "2024-06-18T17:54:38.138355Z"
    },
    "trusted": true
   },
   "outputs": [],
   "execution_count": null
  },
  {
   "cell_type": "code",
   "source": "movies_df['transformed_genres'] = movies_df['genres'].apply(genre_transform)",
   "metadata": {
    "id": "X2nm3JtuVNz-",
    "execution": {
     "iopub.status.busy": "2024-06-18T17:54:40.682203Z",
     "iopub.execute_input": "2024-06-18T17:54:40.682594Z",
     "iopub.status.idle": "2024-06-18T17:54:42.249550Z",
     "shell.execute_reply.started": "2024-06-18T17:54:40.682564Z",
     "shell.execute_reply": "2024-06-18T17:54:42.248333Z"
    },
    "trusted": true
   },
   "outputs": [],
   "execution_count": null
  },
  {
   "cell_type": "code",
   "source": "movies_df[['genres', 'transformed_genres']].head()",
   "metadata": {
    "colab": {
     "base_uri": "https://localhost:8080/",
     "height": 206
    },
    "id": "xn4XAYN8UQhj",
    "outputId": "59e5cc94-92fc-4728-8993-01201569a3b7",
    "execution": {
     "iopub.status.busy": "2024-06-18T17:54:43.174024Z",
     "iopub.execute_input": "2024-06-18T17:54:43.174432Z",
     "iopub.status.idle": "2024-06-18T17:54:43.192903Z",
     "shell.execute_reply.started": "2024-06-18T17:54:43.174399Z",
     "shell.execute_reply": "2024-06-18T17:54:43.191659Z"
    },
    "trusted": true
   },
   "outputs": [],
   "execution_count": null
  },
  {
   "cell_type": "code",
   "source": "# Count movies with NaN overview\nnan_overview_count = movies_df['overview'].isna().sum()\nprint(f\"Number of movies with NaN overview: {nan_overview_count}\")",
   "metadata": {
    "colab": {
     "base_uri": "https://localhost:8080/"
    },
    "id": "rH068Ul9bePA",
    "outputId": "b974b20a-2f33-45a4-acbc-f9226741c991",
    "execution": {
     "iopub.status.busy": "2024-06-18T17:54:46.076821Z",
     "iopub.execute_input": "2024-06-18T17:54:46.077257Z",
     "iopub.status.idle": "2024-06-18T17:54:46.090583Z",
     "shell.execute_reply.started": "2024-06-18T17:54:46.077212Z",
     "shell.execute_reply": "2024-06-18T17:54:46.089183Z"
    },
    "trusted": true
   },
   "outputs": [],
   "execution_count": null
  },
  {
   "cell_type": "code",
   "source": "# Filter out movies with NaN overview\nmovies_df = movies_df[~movies_df['overview'].isna()]\nmovies_df = movies_df.reset_index(drop=True)",
   "metadata": {
    "id": "J6hTCD0RbkLO",
    "execution": {
     "iopub.status.busy": "2024-06-18T17:54:49.172686Z",
     "iopub.execute_input": "2024-06-18T17:54:49.173082Z",
     "iopub.status.idle": "2024-06-18T17:54:49.273376Z",
     "shell.execute_reply.started": "2024-06-18T17:54:49.173050Z",
     "shell.execute_reply": "2024-06-18T17:54:49.272114Z"
    },
    "trusted": true
   },
   "outputs": [],
   "execution_count": null
  },
  {
   "cell_type": "code",
   "source": "# Count movies with None overview\nnone_overview_count = (movies_df['overview'] == None).sum()\n\nprint(f\"Number of movies with None overview: {none_overview_count}\")",
   "metadata": {
    "colab": {
     "base_uri": "https://localhost:8080/"
    },
    "id": "IiRiF70pb33B",
    "outputId": "a396974e-e752-4df9-94a8-3f191edcc04d",
    "execution": {
     "iopub.status.busy": "2024-06-18T17:54:51.656765Z",
     "iopub.execute_input": "2024-06-18T17:54:51.657168Z",
     "iopub.status.idle": "2024-06-18T17:54:51.663320Z",
     "shell.execute_reply.started": "2024-06-18T17:54:51.657138Z",
     "shell.execute_reply": "2024-06-18T17:54:51.662274Z"
    },
    "trusted": true
   },
   "outputs": [],
   "execution_count": null
  },
  {
   "cell_type": "code",
   "source": "# Strip whitespace characters from the 'overview' column\nmovies_df['overview'] = movies_df['overview'].str.strip()",
   "metadata": {
    "id": "rwCVFQn5c14d",
    "execution": {
     "iopub.status.busy": "2024-06-18T17:54:54.192723Z",
     "iopub.execute_input": "2024-06-18T17:54:54.193129Z",
     "iopub.status.idle": "2024-06-18T17:54:54.223172Z",
     "shell.execute_reply.started": "2024-06-18T17:54:54.193081Z",
     "shell.execute_reply": "2024-06-18T17:54:54.221901Z"
    },
    "trusted": true
   },
   "outputs": [],
   "execution_count": null
  },
  {
   "cell_type": "code",
   "source": "# Count movies with empty string overview\nempty_string_overview_count = (movies_df['overview'] == '').sum()\nprint(f\"Number of movies with empty string overview: {empty_string_overview_count}\")",
   "metadata": {
    "colab": {
     "base_uri": "https://localhost:8080/"
    },
    "id": "epViWZNCbmTm",
    "outputId": "e74675a7-094d-4a15-9491-449881de32c3",
    "execution": {
     "iopub.status.busy": "2024-06-18T17:54:56.751602Z",
     "iopub.execute_input": "2024-06-18T17:54:56.751990Z",
     "iopub.status.idle": "2024-06-18T17:54:56.765658Z",
     "shell.execute_reply.started": "2024-06-18T17:54:56.751958Z",
     "shell.execute_reply": "2024-06-18T17:54:56.764573Z"
    },
    "trusted": true
   },
   "outputs": [],
   "execution_count": null
  },
  {
   "cell_type": "code",
   "source": "# Filter out rows with empty string overviews\nmovies_df = movies_df[movies_df['overview'] != '']\nmovies_df = movies_df.reset_index(drop=True)",
   "metadata": {
    "id": "8EVd1fzUc6fY",
    "execution": {
     "iopub.status.busy": "2024-06-18T17:54:59.016679Z",
     "iopub.execute_input": "2024-06-18T17:54:59.017087Z",
     "iopub.status.idle": "2024-06-18T17:54:59.120981Z",
     "shell.execute_reply.started": "2024-06-18T17:54:59.017054Z",
     "shell.execute_reply": "2024-06-18T17:54:59.119900Z"
    },
    "trusted": true
   },
   "outputs": [],
   "execution_count": null
  },
  {
   "cell_type": "code",
   "source": "movies_df['genre_count'] = movies_df['transformed_genres'].apply(len)\nmovies_df['has_duplicates'] = movies_df['transformed_genres'].apply(lambda x: len(x) != len(set(x)))",
   "metadata": {
    "id": "MIKwHFV6Zf_B",
    "execution": {
     "iopub.status.busy": "2024-06-18T17:55:04.435422Z",
     "iopub.execute_input": "2024-06-18T17:55:04.435797Z",
     "iopub.status.idle": "2024-06-18T17:55:04.487914Z",
     "shell.execute_reply.started": "2024-06-18T17:55:04.435768Z",
     "shell.execute_reply": "2024-06-18T17:55:04.486861Z"
    },
    "trusted": true
   },
   "outputs": [],
   "execution_count": null
  },
  {
   "cell_type": "code",
   "source": "# show there are no movies with duplicate genres\nmovies_df[movies_df['has_duplicates'] == True].head()",
   "metadata": {
    "colab": {
     "base_uri": "https://localhost:8080/",
     "height": 99
    },
    "id": "XzEAa1KFZlIu",
    "outputId": "5d44171e-8a29-4b52-cce1-968a4fd8a0ca",
    "execution": {
     "iopub.status.busy": "2024-06-18T17:55:09.115918Z",
     "iopub.execute_input": "2024-06-18T17:55:09.116730Z",
     "iopub.status.idle": "2024-06-18T17:55:09.133289Z",
     "shell.execute_reply.started": "2024-06-18T17:55:09.116691Z",
     "shell.execute_reply": "2024-06-18T17:55:09.132070Z"
    },
    "trusted": true
   },
   "outputs": [],
   "execution_count": null
  },
  {
   "cell_type": "code",
   "source": "# filter out movies without genre\nmovies_df = movies_df[movies_df['genre_count'] != 0]\nmovies_df = movies_df.reset_index(drop=True)",
   "metadata": {
    "id": "Eyqt_pcZaJ4v",
    "execution": {
     "iopub.status.busy": "2024-06-18T17:55:16.224518Z",
     "iopub.execute_input": "2024-06-18T17:55:16.224898Z",
     "iopub.status.idle": "2024-06-18T17:55:16.269881Z",
     "shell.execute_reply.started": "2024-06-18T17:55:16.224869Z",
     "shell.execute_reply": "2024-06-18T17:55:16.268712Z"
    },
    "trusted": true
   },
   "outputs": [],
   "execution_count": null
  },
  {
   "cell_type": "markdown",
   "source": "## Genre overview",
   "metadata": {
    "id": "8x6Z0yXB-H2-"
   }
  },
  {
   "cell_type": "code",
   "source": "# Genre occurences\nfrom collections import Counter\n\nall_genres = [genre for sublist in movies_df['transformed_genres'] for genre in sublist]\ngenre_counts = Counter(all_genres)\n\nsorted_genres = sorted(genre_counts.items(), key=lambda x: x[1], reverse=True)\n\n\nfor genre, count in sorted_genres:\n    print(f\"{genre}: {count}\")",
   "metadata": {
    "colab": {
     "base_uri": "https://localhost:8080/"
    },
    "id": "UBkh6MGwVfTh",
    "outputId": "0be01aad-294f-4fdf-c08c-7ea636c608cc",
    "execution": {
     "iopub.status.busy": "2024-06-18T17:55:18.806394Z",
     "iopub.execute_input": "2024-06-18T17:55:18.806798Z",
     "iopub.status.idle": "2024-06-18T17:55:18.836577Z",
     "shell.execute_reply.started": "2024-06-18T17:55:18.806768Z",
     "shell.execute_reply": "2024-06-18T17:55:18.834844Z"
    },
    "trusted": true
   },
   "outputs": [],
   "execution_count": null
  },
  {
   "cell_type": "code",
   "source": [
    "from collections import Counter\n",
    "genre_sets = movies_df['transformed_genres'].apply(lambda x: tuple(sorted(x)))\n",
    "genre_set_counts = Counter(genre_sets)\n",
    "\n",
    "sorted_genre_set_counts = sorted(genre_set_counts.items(), key=lambda x: x[1], reverse=True)\n",
    "\n",
    "print(\"Counts of Unique Genre Combinations:\")\n",
    "for genres, count in sorted_genre_set_counts[:10]:\n",
    "    print(f\"{genres}: {count}\")"
   ],
   "metadata": {
    "colab": {
     "base_uri": "https://localhost:8080/"
    },
    "id": "1vqoyyBFait0",
    "outputId": "0f73874b-780b-48c7-84a0-0e7e19819aa0",
    "execution": {
     "iopub.status.busy": "2024-06-18T17:55:26.949736Z",
     "iopub.execute_input": "2024-06-18T17:55:26.950151Z",
     "iopub.status.idle": "2024-06-18T17:55:27.013190Z",
     "shell.execute_reply.started": "2024-06-18T17:55:26.950118Z",
     "shell.execute_reply": "2024-06-18T17:55:27.011856Z"
    },
    "trusted": true
   },
   "outputs": [],
   "execution_count": null
  },
  {
   "cell_type": "markdown",
   "source": "## Length exploration",
   "metadata": {
    "id": "lkNibYin9XbU"
   }
  },
  {
   "cell_type": "code",
   "source": [
    "# Overview length statistics\n",
    "movies_df['overview_length'] = movies_df['overview'].astype(str).apply(len)\n",
    "\n",
    "print(\"\\nOverview length statistics:\")\n",
    "print(f\"Average length: {movies_df['overview_length'].mean()}\")\n",
    "print(f\"Minimum length: {movies_df['overview_length'].min()}\")\n",
    "print(f\"Maximum length: {movies_df['overview_length'].max()}\")"
   ],
   "metadata": {
    "colab": {
     "base_uri": "https://localhost:8080/"
    },
    "id": "J0nbQDRuAt_c",
    "outputId": "d0539a87-38e8-408e-f86d-3971177f00e1",
    "execution": {
     "iopub.status.busy": "2024-06-18T17:55:40.459720Z",
     "iopub.execute_input": "2024-06-18T17:55:40.460130Z",
     "iopub.status.idle": "2024-06-18T17:55:40.490160Z",
     "shell.execute_reply.started": "2024-06-18T17:55:40.460083Z",
     "shell.execute_reply": "2024-06-18T17:55:40.488819Z"
    },
    "trusted": true
   },
   "outputs": [],
   "execution_count": null
  },
  {
   "cell_type": "code",
   "source": [
    "short_overview_movies = movies_df[movies_df['overview_length'] <= 50]\n",
    "\n",
    "short_overview_movies['overview'].head()"
   ],
   "metadata": {
    "colab": {
     "base_uri": "https://localhost:8080/"
    },
    "id": "QGF7Y3iMbQnP",
    "outputId": "b960dbf1-0115-49ed-8242-27f671562c8a",
    "execution": {
     "iopub.status.busy": "2024-06-18T17:55:45.164398Z",
     "iopub.execute_input": "2024-06-18T17:55:45.164834Z",
     "iopub.status.idle": "2024-06-18T17:55:45.175625Z",
     "shell.execute_reply.started": "2024-06-18T17:55:45.164800Z",
     "shell.execute_reply": "2024-06-18T17:55:45.174580Z"
    },
    "trusted": true
   },
   "outputs": [],
   "execution_count": null
  },
  {
   "cell_type": "code",
   "source": "# filter out short overview movies\nmovies_df = movies_df[movies_df['overview_length'] > 50]\nmovies_df = movies_df.reset_index(drop=True)",
   "metadata": {
    "id": "z229A7sY-UMK",
    "execution": {
     "iopub.status.busy": "2024-06-18T17:55:57.638292Z",
     "iopub.execute_input": "2024-06-18T17:55:57.639038Z",
     "iopub.status.idle": "2024-06-18T17:55:57.680007Z",
     "shell.execute_reply.started": "2024-06-18T17:55:57.639003Z",
     "shell.execute_reply": "2024-06-18T17:55:57.678763Z"
    },
    "trusted": true
   },
   "outputs": [],
   "execution_count": null
  },
  {
   "cell_type": "code",
   "source": [
    "movies_df['overview_word_count'] = movies_df['overview'].astype(str).apply(lambda x: len(x.split()))\n",
    "\n",
    "print(\"\\nOverview word count statistics:\")\n",
    "print(f\"Average word count: {movies_df['overview_word_count'].mean()}\")\n",
    "print(f\"Minimum word count: {movies_df['overview_word_count'].min()}\")\n",
    "print(f\"Maximum word count: {movies_df['overview_word_count'].max()}\")\n"
   ],
   "metadata": {
    "colab": {
     "base_uri": "https://localhost:8080/"
    },
    "id": "wGYeJcRHBAht",
    "outputId": "3d863b94-4f85-4f0f-9b77-37400f317084",
    "execution": {
     "iopub.status.busy": "2024-06-18T17:56:03.083020Z",
     "iopub.execute_input": "2024-06-18T17:56:03.083445Z",
     "iopub.status.idle": "2024-06-18T17:56:03.264879Z",
     "shell.execute_reply.started": "2024-06-18T17:56:03.083412Z",
     "shell.execute_reply": "2024-06-18T17:56:03.263614Z"
    },
    "trusted": true
   },
   "outputs": [],
   "execution_count": null
  },
  {
   "cell_type": "code",
   "source": [
    "# Total number of movies\n",
    "total_movies = len(movies_df)\n",
    "\n",
    "# Number of movies with 17 words or more in their overview\n",
    "movies_with_17_words_or_more = len(movies_df[movies_df['overview_word_count'] >= 17])\n",
    "\n",
    "# Calculate the percentage\n",
    "percentage = (movies_with_17_words_or_more / total_movies) * 100\n",
    "\n",
    "print(f\"Percentage of movies with 17 words or more in overview: {percentage:.2f}%\")"
   ],
   "metadata": {
    "colab": {
     "base_uri": "https://localhost:8080/"
    },
    "id": "sKvQN7taBcHx",
    "outputId": "cd30325d-8f2b-4430-c3ab-e38a684e8683",
    "execution": {
     "iopub.status.busy": "2024-06-18T17:56:10.658486Z",
     "iopub.execute_input": "2024-06-18T17:56:10.658877Z",
     "iopub.status.idle": "2024-06-18T17:56:10.687174Z",
     "shell.execute_reply.started": "2024-06-18T17:56:10.658847Z",
     "shell.execute_reply": "2024-06-18T17:56:10.685573Z"
    },
    "trusted": true
   },
   "outputs": [],
   "execution_count": null
  },
  {
   "cell_type": "code",
   "source": [
    "import matplotlib.pyplot as plt\n",
    "\n",
    "genre_series = pd.Series(all_genres)\n",
    "genre_counts_sorted = genre_series.value_counts().sort_values(ascending=True)\n",
    "\n",
    "\n",
    "plt.figure(figsize=(10, 8))\n",
    "plt.barh(genre_counts_sorted.index, genre_counts_sorted.values, color='skyblue')\n",
    "plt.xlabel('Number of Movies')\n",
    "plt.ylabel('Genre')\n",
    "plt.title('Movie Genre Distribution')\n",
    "plt.show()\n"
   ],
   "metadata": {
    "colab": {
     "base_uri": "https://localhost:8080/",
     "height": 492
    },
    "id": "VunHttQZV266",
    "outputId": "fbd0acac-b1f5-42da-fef0-3793536d63b2",
    "execution": {
     "iopub.status.busy": "2024-06-18T17:56:22.935575Z",
     "iopub.execute_input": "2024-06-18T17:56:22.935981Z",
     "iopub.status.idle": "2024-06-18T17:56:23.374189Z",
     "shell.execute_reply.started": "2024-06-18T17:56:22.935949Z",
     "shell.execute_reply": "2024-06-18T17:56:23.373037Z"
    },
    "trusted": true
   },
   "outputs": [],
   "execution_count": null
  },
  {
   "cell_type": "code",
   "source": [
    "import matplotlib.pyplot as plt\n",
    "\n",
    "genre_count_series = movies_df['genre_count']\n",
    "\n",
    "genre_count_counts = genre_count_series.value_counts().sort_index()\n",
    "\n",
    "plt.figure(figsize=(10, 8))\n",
    "plt.bar(genre_count_counts.index, genre_count_counts.values, color='skyblue')\n",
    "plt.xlabel('Number of Genres')\n",
    "plt.ylabel('Number of Movies')\n",
    "plt.title('Number of Movies per Genre Count')\n",
    "plt.xticks(genre_count_counts.index) \n",
    "plt.grid(axis='y')\n",
    "plt.show()\n"
   ],
   "metadata": {
    "colab": {
     "base_uri": "https://localhost:8080/",
     "height": 524
    },
    "id": "Ep7uu81zetRH",
    "outputId": "26e5cdd6-c457-4fea-80cf-7d810758bcbb",
    "execution": {
     "iopub.status.busy": "2024-06-18T17:56:26.478171Z",
     "iopub.execute_input": "2024-06-18T17:56:26.478576Z",
     "iopub.status.idle": "2024-06-18T17:56:26.778155Z",
     "shell.execute_reply.started": "2024-06-18T17:56:26.478536Z",
     "shell.execute_reply": "2024-06-18T17:56:26.777139Z"
    },
    "trusted": true
   },
   "outputs": [],
   "execution_count": null
  },
  {
   "cell_type": "code",
   "source": [
    "plt.figure(figsize=(10, 8))\n",
    "plt.bar(genre_count_counts.index, genre_count_counts.values, color='skyblue')\n",
    "plt.xlabel('Number of Genres')\n",
    "plt.ylabel('Number of Movies')\n",
    "plt.title('Number of Movies per Genre Count')\n",
    "plt.xticks(genre_count_counts.index)  \n",
    "plt.yscale('log') \n",
    "plt.grid(axis='y')\n",
    "plt.show()"
   ],
   "metadata": {
    "colab": {
     "base_uri": "https://localhost:8080/",
     "height": 536
    },
    "id": "RvPcTSqDe2Tp",
    "outputId": "312dd828-591b-4a82-9f49-b3b21c1ebcf5",
    "execution": {
     "iopub.status.busy": "2024-06-18T17:56:30.633882Z",
     "iopub.execute_input": "2024-06-18T17:56:30.634292Z",
     "iopub.status.idle": "2024-06-18T17:56:31.351508Z",
     "shell.execute_reply.started": "2024-06-18T17:56:30.634259Z",
     "shell.execute_reply": "2024-06-18T17:56:31.350408Z"
    },
    "trusted": true
   },
   "outputs": [],
   "execution_count": null
  },
  {
   "cell_type": "code",
   "source": "print(genre_count_counts)",
   "metadata": {
    "colab": {
     "base_uri": "https://localhost:8080/"
    },
    "id": "sfSLKir7fIEd",
    "outputId": "78e0b582-57f7-4474-9334-e487e416bdce",
    "execution": {
     "iopub.status.busy": "2024-06-18T17:56:34.845217Z",
     "iopub.execute_input": "2024-06-18T17:56:34.845620Z",
     "iopub.status.idle": "2024-06-18T17:56:34.851403Z",
     "shell.execute_reply.started": "2024-06-18T17:56:34.845579Z",
     "shell.execute_reply": "2024-06-18T17:56:34.850303Z"
    },
    "trusted": true
   },
   "outputs": [],
   "execution_count": null
  },
  {
   "cell_type": "code",
   "source": "for column in movies_df.columns:\n    print(column)",
   "metadata": {
    "colab": {
     "base_uri": "https://localhost:8080/"
    },
    "id": "L2CvaK4DCmc8",
    "outputId": "692d6999-d3ae-4db3-80bc-85eea6a69cc2",
    "execution": {
     "iopub.status.busy": "2024-06-18T17:56:37.972829Z",
     "iopub.execute_input": "2024-06-18T17:56:37.973260Z",
     "iopub.status.idle": "2024-06-18T17:56:37.979611Z",
     "shell.execute_reply.started": "2024-06-18T17:56:37.973225Z",
     "shell.execute_reply": "2024-06-18T17:56:37.978295Z"
    },
    "trusted": true
   },
   "outputs": [],
   "execution_count": null
  },
  {
   "cell_type": "code",
   "source": [
    "columns_to_keep = [\n",
    "    'id', 'imdb_id', 'original_language', 'overview', 'poster_path', 'title',\n",
    "    'tagline', 'vote_average', 'vote_count', 'transformed_genres',\n",
    "    'genre_count', 'overview_length', 'overview_word_count'\n",
    "]\n",
    "\n",
    "\n",
    "movies_df = movies_df[columns_to_keep]"
   ],
   "metadata": {
    "id": "I4IDz1IcDGlw",
    "execution": {
     "iopub.status.busy": "2024-06-18T17:56:42.801449Z",
     "iopub.execute_input": "2024-06-18T17:56:42.801886Z",
     "iopub.status.idle": "2024-06-18T17:56:42.824487Z",
     "shell.execute_reply.started": "2024-06-18T17:56:42.801852Z",
     "shell.execute_reply": "2024-06-18T17:56:42.823299Z"
    },
    "trusted": true
   },
   "outputs": [],
   "execution_count": null
  },
  {
   "cell_type": "code",
   "source": "file_path = '/kaggle/working/movies_metadata_filtered.csv'\n\nmovies_df.to_csv(file_path, index=False)",
   "metadata": {
    "id": "4dWXkm2kDKu6",
    "execution": {
     "iopub.status.busy": "2024-06-18T17:56:46.747911Z",
     "iopub.execute_input": "2024-06-18T17:56:46.748291Z",
     "iopub.status.idle": "2024-06-18T17:56:47.443125Z",
     "shell.execute_reply.started": "2024-06-18T17:56:46.748262Z",
     "shell.execute_reply": "2024-06-18T17:56:47.442061Z"
    },
    "trusted": true
   },
   "outputs": [],
   "execution_count": null
  }
 ]
}
