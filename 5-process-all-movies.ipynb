{
 "metadata": {
  "kernelspec": {
   "display_name": "Python 3",
   "language": "python",
   "name": "python3"
  },
  "language_info": {
   "name": "python",
   "version": "3.10.13",
   "mimetype": "text/x-python",
   "codemirror_mode": {
    "name": "ipython",
    "version": 3
   },
   "pygments_lexer": "ipython3",
   "nbconvert_exporter": "python",
   "file_extension": ".py"
  },
  "kaggle": {
   "accelerator": "gpu",
   "dataSources": [
    {
     "sourceId": 8723131,
     "sourceType": "datasetVersion",
     "datasetId": 4727572
    },
    {
     "sourceId": 8723199,
     "sourceType": "datasetVersion",
     "datasetId": 5234766
    }
   ],
   "dockerImageVersionId": 30732,
   "isInternetEnabled": true,
   "language": "python",
   "sourceType": "notebook",
   "isGpuEnabled": true
  }
 },
 "nbformat_minor": 5,
 "nbformat": 4,
 "cells": [
  {
   "cell_type": "code",
   "source": [
    "# Setup environment\n",
    "import os\n",
    "from kaggle_secrets import UserSecretsClient\n",
    "\n",
    "os.environ['TF_USE_LEGACY_KERAS'] = '1'  # To fix ktrain installation\n",
    "os.environ['WANDB_API_KEY'] =  UserSecretsClient().get_secret(\"WANDB_API_KEY\")"
   ],
   "metadata": {
    "execution": {
     "iopub.status.busy": "2024-06-25T13:37:22.489748Z",
     "iopub.execute_input": "2024-06-25T13:37:22.490540Z",
     "iopub.status.idle": "2024-06-25T13:37:22.717079Z",
     "shell.execute_reply.started": "2024-06-25T13:37:22.490507Z",
     "shell.execute_reply": "2024-06-25T13:37:22.716322Z"
    },
    "trusted": true
   },
   "id": "a032ccde5d53e025",
   "outputs": [],
   "execution_count": null
  },
  {
   "cell_type": "code",
   "source": "# Install dependencies\n!pip install ktrain wandb\n\n# Login to wandb\n!wandb login",
   "metadata": {
    "execution": {
     "iopub.status.busy": "2024-06-25T13:37:23.824975Z",
     "iopub.execute_input": "2024-06-25T13:37:23.825343Z",
     "iopub.status.idle": "2024-06-25T13:38:12.265670Z",
     "shell.execute_reply.started": "2024-06-25T13:37:23.825306Z",
     "shell.execute_reply": "2024-06-25T13:38:12.264488Z"
    },
    "trusted": true
   },
   "id": "579eb06502d168a0",
   "outputs": [],
   "execution_count": null
  },
  {
   "cell_type": "code",
   "source": "# Standard imports\nimport pandas as pd\nimport numpy as np\n\nimport ast\nfrom sklearn.preprocessing import MultiLabelBinarizer\n",
   "metadata": {
    "execution": {
     "iopub.status.busy": "2024-06-25T13:38:12.267863Z",
     "iopub.execute_input": "2024-06-25T13:38:12.268178Z",
     "iopub.status.idle": "2024-06-25T13:38:13.129805Z",
     "shell.execute_reply.started": "2024-06-25T13:38:12.268147Z",
     "shell.execute_reply": "2024-06-25T13:38:13.128931Z"
    },
    "trusted": true
   },
   "id": "be2ea20ac8dcbbdd",
   "outputs": [],
   "execution_count": null
  },
  {
   "cell_type": "code",
   "source": [
    "# ktrain imports\n",
    "import ktrain\n",
    "\n",
    "# wandb import\n",
    "import wandb"
   ],
   "metadata": {
    "execution": {
     "iopub.status.busy": "2024-06-25T13:38:13.131080Z",
     "iopub.execute_input": "2024-06-25T13:38:13.131741Z",
     "iopub.status.idle": "2024-06-25T13:38:30.915526Z",
     "shell.execute_reply.started": "2024-06-25T13:38:13.131693Z",
     "shell.execute_reply": "2024-06-25T13:38:30.914738Z"
    },
    "trusted": true
   },
   "id": "e4378196f7c006ee",
   "outputs": [],
   "execution_count": null
  },
  {
   "cell_type": "code",
   "source": "# Hyperparameter values\n\nALL_GENRES = ['Comedy', 'Drama', 'Documentary', 'Romance', 'Horror', 'Action', 'Thriller', 'Family', 'Adventure',\n            'Crime', 'Science Fiction']",
   "metadata": {
    "execution": {
     "iopub.status.busy": "2024-06-25T13:38:30.917515Z",
     "iopub.execute_input": "2024-06-25T13:38:30.917907Z",
     "iopub.status.idle": "2024-06-25T13:38:30.923590Z",
     "shell.execute_reply.started": "2024-06-25T13:38:30.917873Z",
     "shell.execute_reply": "2024-06-25T13:38:30.922439Z"
    },
    "trusted": true
   },
   "id": "c6f4a618f49246af",
   "outputs": [],
   "execution_count": null
  },
  {
   "cell_type": "code",
   "source": "# NON HYPERPARAMETER CONSTANTS\n\nTHRESHOLD = 0.5",
   "metadata": {
    "execution": {
     "iopub.status.busy": "2024-06-25T13:38:52.703228Z",
     "iopub.execute_input": "2024-06-25T13:38:52.704139Z",
     "iopub.status.idle": "2024-06-25T13:38:52.707988Z",
     "shell.execute_reply.started": "2024-06-25T13:38:52.704101Z",
     "shell.execute_reply": "2024-06-25T13:38:52.707070Z"
    },
    "trusted": true
   },
   "id": "aee113bdd6555650",
   "outputs": [],
   "execution_count": null
  },
  {
   "cell_type": "markdown",
   "source": "- `remove_only_labels`: removes labels from samples that are not in the included genres and removes samples that have no labels left\n- `remove_movies`: removes samples where any of the labels are not in the included genres",
   "metadata": {},
   "id": "3471442c2c05289"
  },
  {
   "cell_type": "code",
   "source": "# Load data\ntest_path = '/kaggle/input/movie-dataset-filtered/movies_metadata_filtered.csv'\n\ndata = pd.read_csv(test_path)",
   "metadata": {
    "execution": {
     "iopub.status.busy": "2024-06-25T13:38:54.674802Z",
     "iopub.execute_input": "2024-06-25T13:38:54.675189Z",
     "iopub.status.idle": "2024-06-25T13:38:55.227281Z",
     "shell.execute_reply.started": "2024-06-25T13:38:54.675158Z",
     "shell.execute_reply": "2024-06-25T13:38:55.226208Z"
    },
    "trusted": true
   },
   "id": "3284b9c15a66a777",
   "outputs": [],
   "execution_count": null
  },
  {
   "cell_type": "code",
   "source": "data['genres'] = data['transformed_genres'].apply(ast.literal_eval)",
   "metadata": {
    "execution": {
     "iopub.status.busy": "2024-06-25T13:33:52.523099Z",
     "iopub.execute_input": "2024-06-25T13:33:52.523602Z",
     "iopub.status.idle": "2024-06-25T13:33:53.386356Z",
     "shell.execute_reply.started": "2024-06-25T13:33:52.523566Z",
     "shell.execute_reply": "2024-06-25T13:33:53.384762Z"
    },
    "trusted": true
   },
   "id": "7d2adf98d786a4aa",
   "outputs": [],
   "execution_count": null
  },
  {
   "cell_type": "code",
   "source": "data",
   "metadata": {
    "execution": {
     "iopub.status.busy": "2024-06-25T13:33:57.780513Z",
     "iopub.execute_input": "2024-06-25T13:33:57.780971Z",
     "iopub.status.idle": "2024-06-25T13:33:57.837768Z",
     "shell.execute_reply.started": "2024-06-25T13:33:57.780937Z",
     "shell.execute_reply": "2024-06-25T13:33:57.836267Z"
    },
    "trusted": true
   },
   "id": "abe5346f9c910083",
   "outputs": [],
   "execution_count": null
  },
  {
   "cell_type": "code",
   "source": "mlb = MultiLabelBinarizer()\ndata = data.join(pd.DataFrame(mlb.fit_transform(data.pop('genres')),\n                                  columns=mlb.classes_,\n                                  index=data.index))",
   "metadata": {
    "execution": {
     "iopub.status.busy": "2024-06-25T13:34:04.689158Z",
     "iopub.execute_input": "2024-06-25T13:34:04.689587Z",
     "iopub.status.idle": "2024-06-25T13:34:04.827532Z",
     "shell.execute_reply.started": "2024-06-25T13:34:04.689552Z",
     "shell.execute_reply": "2024-06-25T13:34:04.826230Z"
    },
    "trusted": true
   },
   "id": "6243e4048a025839",
   "outputs": [],
   "execution_count": null
  },
  {
   "cell_type": "code",
   "source": "feature_column = 'overview'\nlabel_columns = ALL_GENRES",
   "metadata": {
    "execution": {
     "iopub.status.busy": "2024-06-25T13:39:21.072618Z",
     "iopub.execute_input": "2024-06-25T13:39:21.072955Z",
     "iopub.status.idle": "2024-06-25T13:39:21.077155Z",
     "shell.execute_reply.started": "2024-06-25T13:39:21.072929Z",
     "shell.execute_reply": "2024-06-25T13:39:21.076138Z"
    },
    "trusted": true
   },
   "id": "1e5af39bcbec75e5",
   "outputs": [],
   "execution_count": null
  },
  {
   "cell_type": "code",
   "source": "data = data[label_columns + [col for col in data.columns if col not in label_columns]]",
   "metadata": {
    "execution": {
     "iopub.status.busy": "2024-06-25T13:34:53.428398Z",
     "iopub.execute_input": "2024-06-25T13:34:53.428894Z",
     "iopub.status.idle": "2024-06-25T13:34:53.444716Z",
     "shell.execute_reply.started": "2024-06-25T13:34:53.428859Z",
     "shell.execute_reply": "2024-06-25T13:34:53.443025Z"
    },
    "trusted": true
   },
   "id": "95fdad75173f32e4",
   "outputs": [],
   "execution_count": null
  },
  {
   "cell_type": "code",
   "source": "# Prepare data format for keras use\nX_test = data[feature_column].tolist()",
   "metadata": {
    "execution": {
     "iopub.status.busy": "2024-06-25T13:39:26.062964Z",
     "iopub.execute_input": "2024-06-25T13:39:26.064022Z",
     "iopub.status.idle": "2024-06-25T13:39:26.075470Z",
     "shell.execute_reply.started": "2024-06-25T13:39:26.063972Z",
     "shell.execute_reply": "2024-06-25T13:39:26.074333Z"
    },
    "trusted": true
   },
   "id": "b4b4bdb4bcc9d85a",
   "outputs": [],
   "execution_count": null
  },
  {
   "cell_type": "code",
   "source": "Y_test = data[label_columns].to_numpy()",
   "metadata": {},
   "id": "8b5080bfb80433bc",
   "outputs": [],
   "execution_count": null
  },
  {
   "cell_type": "code",
   "source": "wandb.init()",
   "metadata": {
    "execution": {
     "iopub.status.busy": "2024-06-25T13:39:51.639818Z",
     "iopub.execute_input": "2024-06-25T13:39:51.640182Z",
     "iopub.status.idle": "2024-06-25T13:40:10.552658Z",
     "shell.execute_reply.started": "2024-06-25T13:39:51.640151Z",
     "shell.execute_reply": "2024-06-25T13:40:10.551573Z"
    },
    "trusted": true
   },
   "id": "90de6592f2767bca",
   "outputs": [],
   "execution_count": null
  },
  {
   "cell_type": "code",
   "source": "# Load the model and the learner\n\n# Fetch artifact\nartifact = wandb.use_artifact(f'pms/model_epoch_4:latest')\n\n# Download the artifact\nartifact_dir = artifact.download()\n\n# Load the predictor\npredictor = ktrain.load_predictor(artifact_dir)\n\n# Load the preprocessor\npreprocessor = predictor.preproc",
   "metadata": {
    "execution": {
     "iopub.status.busy": "2024-06-25T13:40:12.731677Z",
     "iopub.execute_input": "2024-06-25T13:40:12.732676Z",
     "iopub.status.idle": "2024-06-25T13:40:21.830348Z",
     "shell.execute_reply.started": "2024-06-25T13:40:12.732628Z",
     "shell.execute_reply": "2024-06-25T13:40:21.829246Z"
    },
    "trusted": true
   },
   "id": "1caae31eabdd5f3",
   "outputs": [],
   "execution_count": null
  },
  {
   "cell_type": "code",
   "source": [
    "def predictions_to_probability_array(Y_pred):\n",
    "    all_ordered_probabilities = []\n",
    "\n",
    "    for prediction_set in Y_pred:\n",
    "        genre_to_prob = {genre_prob[0]: float(genre_prob[1]) for genre_prob in prediction_set}\n",
    "        ordered_probabilities = np.array([genre_to_prob[genre] for genre in INCLUDED_GENRES])\n",
    "        all_ordered_probabilities.append(ordered_probabilities)\n",
    "\n",
    "    all_ordered_probabilities = np.array(all_ordered_probabilities)\n",
    "\n",
    "    return all_ordered_probabilities"
   ],
   "metadata": {
    "execution": {
     "iopub.status.busy": "2024-06-25T13:40:21.832103Z",
     "iopub.execute_input": "2024-06-25T13:40:21.832461Z",
     "iopub.status.idle": "2024-06-25T13:40:21.840601Z",
     "shell.execute_reply.started": "2024-06-25T13:40:21.832429Z",
     "shell.execute_reply": "2024-06-25T13:40:21.839332Z"
    },
    "trusted": true
   },
   "id": "670715343d9139ec",
   "outputs": [],
   "execution_count": null
  },
  {
   "cell_type": "code",
   "source": [
    "# example prediction\n",
    "Y_pred = predictor.predict([\"satan goes to town to play violin\"])"
   ],
   "metadata": {
    "execution": {
     "iopub.status.busy": "2024-06-25T13:41:59.415148Z",
     "iopub.execute_input": "2024-06-25T13:41:59.415924Z",
     "iopub.status.idle": "2024-06-25T13:42:09.432548Z",
     "shell.execute_reply.started": "2024-06-25T13:41:59.415889Z",
     "shell.execute_reply": "2024-06-25T13:42:09.431061Z"
    },
    "trusted": true
   },
   "id": "55aabd2166c35a67",
   "outputs": [],
   "execution_count": null
  },
  {
   "cell_type": "code",
   "source": "Y_pred = predictor.predict(X_test)",
   "metadata": {
    "execution": {
     "iopub.status.busy": "2024-06-25T13:42:22.761138Z",
     "iopub.execute_input": "2024-06-25T13:42:22.761497Z",
     "iopub.status.idle": "2024-06-25T13:47:56.591095Z",
     "shell.execute_reply.started": "2024-06-25T13:42:22.761470Z",
     "shell.execute_reply": "2024-06-25T13:47:56.589975Z"
    },
    "trusted": true
   },
   "id": "eab440156879b5b2",
   "outputs": [],
   "execution_count": null
  },
  {
   "cell_type": "code",
   "source": "Y_pred",
   "metadata": {
    "execution": {
     "iopub.status.busy": "2024-06-25T13:47:56.592769Z",
     "iopub.execute_input": "2024-06-25T13:47:56.593100Z",
     "iopub.status.idle": "2024-06-25T13:47:57.209778Z",
     "shell.execute_reply.started": "2024-06-25T13:47:56.593073Z",
     "shell.execute_reply": "2024-06-25T13:47:57.208573Z"
    },
    "trusted": true
   },
   "id": "ce0248c3ed08d9bb",
   "outputs": [],
   "execution_count": null
  },
  {
   "cell_type": "code",
   "source": "data_dicts = [{genre: prob for genre, prob in sublist} for sublist in Y_pred]",
   "metadata": {
    "execution": {
     "iopub.status.busy": "2024-06-25T13:50:13.439137Z",
     "iopub.execute_input": "2024-06-25T13:50:13.440087Z",
     "iopub.status.idle": "2024-06-25T13:50:13.519115Z",
     "shell.execute_reply.started": "2024-06-25T13:50:13.440050Z",
     "shell.execute_reply": "2024-06-25T13:50:13.517831Z"
    },
    "trusted": true
   },
   "id": "bb66df27ef3fd13c",
   "outputs": [],
   "execution_count": null
  },
  {
   "cell_type": "code",
   "source": "data_dicts",
   "metadata": {
    "execution": {
     "iopub.status.busy": "2024-06-25T13:50:48.087934Z",
     "iopub.execute_input": "2024-06-25T13:50:48.088331Z",
     "iopub.status.idle": "2024-06-25T13:50:48.491826Z",
     "shell.execute_reply.started": "2024-06-25T13:50:48.088295Z",
     "shell.execute_reply": "2024-06-25T13:50:48.490792Z"
    },
    "trusted": true
   },
   "id": "661854c67366c170",
   "outputs": [],
   "execution_count": null
  },
  {
   "cell_type": "code",
   "source": "df = pd.DataFrame(data_dicts)",
   "metadata": {
    "execution": {
     "iopub.status.busy": "2024-06-25T13:51:20.001540Z",
     "iopub.execute_input": "2024-06-25T13:51:20.002287Z",
     "iopub.status.idle": "2024-06-25T13:51:20.235715Z",
     "shell.execute_reply.started": "2024-06-25T13:51:20.002241Z",
     "shell.execute_reply": "2024-06-25T13:51:20.234704Z"
    },
    "trusted": true
   },
   "id": "527f813701b73140",
   "outputs": [],
   "execution_count": null
  },
  {
   "cell_type": "code",
   "source": "df.to_csv('/kaggle/working/genre_probabilities.csv', index=False)",
   "metadata": {
    "execution": {
     "iopub.status.busy": "2024-06-25T13:51:22.164515Z",
     "iopub.execute_input": "2024-06-25T13:51:22.164878Z",
     "iopub.status.idle": "2024-06-25T13:51:22.806391Z",
     "shell.execute_reply.started": "2024-06-25T13:51:22.164847Z",
     "shell.execute_reply": "2024-06-25T13:51:22.805119Z"
    },
    "trusted": true
   },
   "id": "3389a6bcfca10e9f",
   "outputs": [],
   "execution_count": null
  },
  {
   "cell_type": "code",
   "source": "merged_df = pd.concat([data, df], axis=1)",
   "metadata": {
    "execution": {
     "iopub.status.busy": "2024-06-25T13:51:24.783911Z",
     "iopub.execute_input": "2024-06-25T13:51:24.784642Z",
     "iopub.status.idle": "2024-06-25T13:51:24.796289Z",
     "shell.execute_reply.started": "2024-06-25T13:51:24.784609Z",
     "shell.execute_reply": "2024-06-25T13:51:24.795262Z"
    },
    "trusted": true
   },
   "id": "bcc6fee05ee18d00",
   "outputs": [],
   "execution_count": null
  },
  {
   "cell_type": "code",
   "source": "merged_df",
   "metadata": {
    "execution": {
     "iopub.status.busy": "2024-06-25T13:51:27.364727Z",
     "iopub.execute_input": "2024-06-25T13:51:27.365357Z",
     "iopub.status.idle": "2024-06-25T13:51:27.419925Z",
     "shell.execute_reply.started": "2024-06-25T13:51:27.365318Z",
     "shell.execute_reply": "2024-06-25T13:51:27.418888Z"
    },
    "trusted": true
   },
   "id": "5566baffacf4082c",
   "outputs": [],
   "execution_count": null
  },
  {
   "cell_type": "code",
   "source": "df.to_csv('/kaggle/working/movie_probabilities.csv', index=False)",
   "metadata": {
    "execution": {
     "iopub.status.busy": "2024-06-25T13:51:38.722198Z",
     "iopub.execute_input": "2024-06-25T13:51:38.722552Z",
     "iopub.status.idle": "2024-06-25T13:51:39.356128Z",
     "shell.execute_reply.started": "2024-06-25T13:51:38.722525Z",
     "shell.execute_reply": "2024-06-25T13:51:39.355080Z"
    },
    "trusted": true
   },
   "id": "9295290fafb67644",
   "outputs": [],
   "execution_count": null
  },
  {
   "cell_type": "code",
   "source": "wandb.finish()",
   "metadata": {
    "execution": {
     "iopub.status.busy": "2024-06-25T13:52:14.464577Z",
     "iopub.execute_input": "2024-06-25T13:52:14.464974Z",
     "iopub.status.idle": "2024-06-25T13:52:18.594375Z",
     "shell.execute_reply.started": "2024-06-25T13:52:14.464942Z",
     "shell.execute_reply": "2024-06-25T13:52:18.593607Z"
    },
    "trusted": true
   },
   "id": "508a165768e51bf6",
   "outputs": [],
   "execution_count": null
  }
 ]
}
