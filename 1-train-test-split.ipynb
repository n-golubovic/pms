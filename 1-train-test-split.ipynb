{
 "metadata": {
  "colab": {
   "provenance": []
  },
  "kernelspec": {
   "name": "python3",
   "display_name": "Python 3",
   "language": "python"
  },
  "language_info": {
   "name": "python",
   "version": "3.10.13",
   "mimetype": "text/x-python",
   "codemirror_mode": {
    "name": "ipython",
    "version": 3
   },
   "pygments_lexer": "ipython3",
   "nbconvert_exporter": "python",
   "file_extension": ".py"
  },
  "kaggle": {
   "accelerator": "none",
   "dataSources": [
    {
     "sourceId": 8723199,
     "sourceType": "datasetVersion",
     "datasetId": 5234766
    }
   ],
   "dockerImageVersionId": 30732,
   "isInternetEnabled": true,
   "language": "python",
   "sourceType": "notebook",
   "isGpuEnabled": false
  }
 },
 "nbformat_minor": 4,
 "nbformat": 4,
 "cells": [
  {
   "cell_type": "code",
   "source": "import pandas as pd\nimport numpy as np\nimport ast\nfrom sklearn.model_selection import train_test_split\nfrom sklearn.preprocessing import MultiLabelBinarizer\n\nfile_path = '/kaggle/input/movie-dataset-filtered/movies_metadata_filtered.csv'\ndata = pd.read_csv(file_path, low_memory=False)\ndata['genres'] = data['transformed_genres'].apply(ast.literal_eval)\nprint(data.shape)\nprint(data.head())",
   "metadata": {
    "colab": {
     "base_uri": "https://localhost:8080/"
    },
    "id": "oubzgo21mb4U",
    "outputId": "4fe6b9d3-443d-4a47-b671-1cbf2906a2cf",
    "execution": {
     "iopub.status.busy": "2024-06-18T18:06:15.075597Z",
     "iopub.execute_input": "2024-06-18T18:06:15.076099Z",
     "iopub.status.idle": "2024-06-18T18:06:17.793101Z",
     "shell.execute_reply.started": "2024-06-18T18:06:15.076048Z",
     "shell.execute_reply": "2024-06-18T18:06:17.791888Z"
    },
    "trusted": true
   },
   "outputs": [],
   "execution_count": null
  },
  {
   "cell_type": "code",
   "source": "subset = data.copy()",
   "metadata": {
    "id": "DwHP5iDSmx4x",
    "execution": {
     "iopub.status.busy": "2024-06-18T18:07:01.386748Z",
     "iopub.execute_input": "2024-06-18T18:07:01.387299Z",
     "iopub.status.idle": "2024-06-18T18:07:01.428447Z",
     "shell.execute_reply.started": "2024-06-18T18:07:01.387257Z",
     "shell.execute_reply": "2024-06-18T18:07:01.426972Z"
    },
    "trusted": true
   },
   "outputs": [],
   "execution_count": null
  },
  {
   "cell_type": "code",
   "source": "mlb = MultiLabelBinarizer()\nsubset = subset.join(pd.DataFrame(mlb.fit_transform(subset.pop('genres')),\n                                  columns=mlb.classes_,\n                                  index=subset.index))",
   "metadata": {
    "id": "IuS86L23m953",
    "execution": {
     "iopub.status.busy": "2024-06-18T18:07:03.119412Z",
     "iopub.execute_input": "2024-06-18T18:07:03.120719Z",
     "iopub.status.idle": "2024-06-18T18:07:03.273966Z",
     "shell.execute_reply.started": "2024-06-18T18:07:03.120668Z",
     "shell.execute_reply": "2024-06-18T18:07:03.272541Z"
    },
    "trusted": true
   },
   "outputs": [],
   "execution_count": null
  },
  {
   "cell_type": "code",
   "source": [
    "train, temp = train_test_split(subset, test_size=0.2, random_state=23)\n",
    "val, test = train_test_split(temp, test_size=0.5, random_state=23)\n",
    "\n",
    "train_path = '/kaggle/working/train.csv'\n",
    "val_path = '/kaggle/working/val.csv'\n",
    "test_path = '/kaggle/working/test.csv'\n",
    "\n",
    "train.to_csv(train_path, index=False)\n",
    "val.to_csv(val_path, index=False)\n",
    "test.to_csv(test_path, index=False)\n",
    "\n",
    "print(f\"Train set saved to {train_path}\")\n",
    "print(f\"Validation set saved to {val_path}\")\n",
    "print(f\"Test set saved to {test_path}\")"
   ],
   "metadata": {
    "colab": {
     "base_uri": "https://localhost:8080/"
    },
    "id": "H6P_vAt8nGsM",
    "outputId": "a0204f49-fa83-4158-c24f-f84e9be82971",
    "execution": {
     "iopub.status.busy": "2024-06-18T18:07:26.583553Z",
     "iopub.execute_input": "2024-06-18T18:07:26.584072Z",
     "iopub.status.idle": "2024-06-18T18:07:28.184471Z",
     "shell.execute_reply.started": "2024-06-18T18:07:26.584012Z",
     "shell.execute_reply": "2024-06-18T18:07:28.183239Z"
    },
    "trusted": true
   },
   "outputs": [],
   "execution_count": null
  },
  {
   "cell_type": "code",
   "source": "train.head()",
   "metadata": {
    "colab": {
     "base_uri": "https://localhost:8080/",
     "height": 742
    },
    "id": "tHZJ-xHWnaaZ",
    "outputId": "75ccf1da-6e8f-4916-e364-7e0b547e3412",
    "execution": {
     "iopub.status.busy": "2024-06-18T18:07:43.549222Z",
     "iopub.execute_input": "2024-06-18T18:07:43.550972Z",
     "iopub.status.idle": "2024-06-18T18:07:43.599984Z",
     "shell.execute_reply.started": "2024-06-18T18:07:43.550884Z",
     "shell.execute_reply": "2024-06-18T18:07:43.598190Z"
    },
    "trusted": true
   },
   "outputs": [],
   "execution_count": null
  }
 ]
}
